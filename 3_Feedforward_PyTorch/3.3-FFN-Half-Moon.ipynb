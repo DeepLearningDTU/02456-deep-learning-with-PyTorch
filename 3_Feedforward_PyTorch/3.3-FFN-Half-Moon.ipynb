{
 "cells": [
  {
   "cell_type": "markdown",
   "metadata": {},
   "source": [
    "# Credits\n",
    "> This code is a slight modification to a translation (TensorFlow --> PyTorch) of a previous version of the [02456](http://kurser.dtu.dk/course/02456) course material. \n",
    "> [Original repo link (TensorFlow)](https://github.com/DeepLearningDTU/02456-deep-learning).\n",
    "> [Translated repo link (PyTorch)](https://github.com/munkai/pytorch-tutorial/tree/master/2_intermediate)."
   ]
  },
  {
   "cell_type": "markdown",
   "metadata": {},
   "source": [
    "# Purpose and goals\n",
    "In this notebook you will implement a simple neural network in PyTorch.\n",
    "\n",
    "The building blocks of PyTorch are Tensors, Variables and Operations, with these we can form dynamic computational graphs that form neural networks.\n",
    "In this exercise we'll start right away by defining a logistic regression model using these sipmle building blocks.\n",
    "We'll initially start with a simple 2D and two-class classification problem where the class decision boundary can be visualized.\n",
    "Initially we show that logistic regression can only separate classes linearly.\n",
    "Adding a nonlinear hidden layer to the algorithm permits nonlinear class separation.\n",
    "\n",
    "In this notebook you should:\n",
    "* **First** run the code as is, and see what it does.\n",
    "* **Then** modify the code, following the instructions in the bottom of the notebook.\n",
    "* **Lastly** play a round a bit, and do some small experiments that you come up with.\n",
    "\n",
    "> We assume that you are already familiar with backpropagation (if not please see [Andrej Karpathy](http://cs.stanford.edu/people/karpathy/) or [Michal Nielsen](http://neuralnetworksanddeeplearning.com/chap2.html))."
   ]
  },
  {
   "cell_type": "markdown",
   "metadata": {},
   "source": [
    "# Dependancies and supporting functions\n",
    "Loading dependancies and supporting functions by running the code block below."
   ]
  },
  {
   "cell_type": "code",
   "execution_count": 1,
   "metadata": {},
   "outputs": [],
   "source": [
    "%matplotlib inline\n",
    "import matplotlib\n",
    "import numpy as np\n",
    "import matplotlib.pyplot as plt\n",
    "import sklearn.datasets\n",
    "\n",
    "# Do not worry about the code below for now, it is used for plotting later\n",
    "def plot_decision_boundary(pred_func, X, y):\n",
    "    #from https://github.com/dennybritz/nn-from-scratch/blob/master/nn-from-scratch.ipynb\n",
    "    # Set min and max values and give it some padding\n",
    "    x_min, x_max = X[:, 0].min() - .5, X[:, 0].max() + .5\n",
    "    y_min, y_max = X[:, 1].min() - .5, X[:, 1].max() + .5\n",
    "    \n",
    "    h = 0.01\n",
    "    # Generate a grid of points with distance h between them\n",
    "    xx, yy = np.meshgrid(np.arange(x_min, x_max, h), np.arange(y_min, y_max, h))\n",
    "    \n",
    "    yy = yy.astype('float32')\n",
    "    xx = xx.astype('float32')\n",
    "    # Predict the function value for the whole gid\n",
    "    Z = pred_func(np.c_[xx.ravel(), yy.ravel()])[:,0]\n",
    "    Z = Z.reshape(xx.shape)\n",
    "    # Plot the contour and training examples\n",
    "    plt.figure()\n",
    "    plt.contourf(xx, yy, Z, cmap=plt.cm.RdBu)\n",
    "    plt.scatter(X[:, 0], X[:, 1], c=-y, cmap=plt.cm.Spectral)\n",
    "\n",
    "def onehot(t, num_classes):\n",
    "    out = np.zeros((t.shape[0], num_classes))\n",
    "    for row, col in enumerate(t):\n",
    "        out[row, col] = 1\n",
    "    return out"
   ]
  },
  {
   "cell_type": "markdown",
   "metadata": {
    "collapsed": true
   },
   "source": [
    "# Problem \n",
    "We'll initally demonstrate the that Multi-layer Perceptrons (MLPs) can classify nonlinear problems, whereas simple logistic regression cannot.\n",
    "For ease of visualization and computationl speed we initially experiment on the simple 2D half-moon dataset, visualized below."
   ]
  },
  {
   "cell_type": "code",
   "execution_count": 47,
   "metadata": {},
   "outputs": [
    {
     "name": "stdout",
     "output_type": "stream",
     "text": [
      "(300, 2) (300,)\n"
     ]
    },
    {
     "data": {
      "image/png": "[encoded data removed]",
      "text/plain": [
       "<Figure size 432x288 with 1 Axes>"
      ]
     },
     "metadata": {
      "needs_background": "light"
     },
     "output_type": "display_data"
    }
   ],
   "source": [
    "# Generate a dataset and plot it\n",
    "np.random.seed(0)\n",
    "num_samples = 300\n",
    "\n",
    "X, y = sklearn.datasets.make_moons(num_samples, noise=0.20)\n",
    "\n",
    "# define train, validation, and test sets\n",
    "X_tr = X[:100].astype('float32')\n",
    "X_val = X[100:200].astype('float32')\n",
    "X_te = X[200:].astype('float32')\n",
    "\n",
    "# and labels\n",
    "y_tr = y[:100].astype('int32')\n",
    "y_val = y[100:200].astype('int32')\n",
    "y_te = y[200:].astype('int32')\n",
    "\n",
    "plt.scatter(X_tr[:,0], X_tr[:,1], s=40, c=y_tr, cmap=plt.cm.Spectral)\n",
    "\n",
    "print(X.shape, y.shape)\n",
    "\n",
    "num_features = X_tr.shape[-1]\n",
    "num_output = 2\n",
    "num_hidden_layer = 5"
   ]
  },
  {
   "cell_type": "markdown",
   "metadata": {},
   "source": [
    "# From Logistic Regression to \"Deep Learning\"\n",
    "The code implements logistic regression. In section [__Assignments Half Moon__](#Assignments-Half-Moon) (bottom of this notebook) you are asked to modify the code into a neural network.\n",
    "\n",
    "The standard building block for neural networks are layers.\n",
    "The simplest of which is called a *dense feed forward layer*, and it is computed as follows:\n",
    "\n",
    "$$y = \\mathrm{nonlinearity}(xW^T + b)$$\n",
    "\n",
    "where $x$ is the input vector, $y$ is the output vector, and $W, b$ are the weights (a matrix and vector respectively).\n",
    "The *dense* part of the name comes from the fact that every element of $x$ contributes to every element of $y$.\n",
    "And the *feed forward* part of the name means that the layer processes each input independently. \n",
    "If we were to draw the layer it would be acyclical.\n",
    "Later we will se layers that break both of these conventions."
   ]
  },
  {
   "cell_type": "markdown",
   "metadata": {},
   "source": [
    "- $x$ has shape `[batch_size, num_features]`,\n",
    "- $W$ has shape `[num_units, num_features]`,\n",
    "- $b$ has `[num_units]`, and\n",
    "- $y$ has then `[batch_size, num_units]`"
   ]
  },
  {
   "cell_type": "markdown",
   "metadata": {},
   "source": [
    "## PyTorch 101\n",
    "\n",
    "In this first exercise we will use basic PyTorch functions so that you can learn how to build it from scratch. This will help you later if you want to build your own custom operations."
   ]
  },
  {
   "cell_type": "code",
   "execution_count": 3,
   "metadata": {},
   "outputs": [],
   "source": [
    "import torch\n",
    "from torch.autograd import Variable\n",
    "from torch.nn.parameter import Parameter\n",
    "import torch.nn as nn\n",
    "import torch.nn.functional as F"
   ]
  },
  {
   "cell_type": "markdown",
   "metadata": {},
   "source": [
    "[`Parameters`](http://pytorch.org/docs/0.1.12/nn.html#torch.nn.Parameter) are [`Variable`](http://pytorch.org/docs/0.1.12/autograd.html#torch.autograd.Variable) subclasses, that have a very special property when used with [`Module`](http://pytorch.org/docs/0.1.12/nn.html#torch.nn.Module)'s - when they’re assigned as `Module` attributes they are automatically added to the list of its parameters, and will appear e.g. in [`.parameters()`](http://pytorch.org/docs/0.1.12/nn.html#torch.nn.Module.parameters) iterator.\n",
    "Assigning a Variable doesn’t have such effect.\n",
    "This is because one might want to cache some temporary state (more on this later) in the model.\n",
    "If there was no such class as `Parameter`, these temporaries would get registered too."
   ]
  },
  {
   "cell_type": "code",
   "execution_count": 48,
   "metadata": {},
   "outputs": [],
   "source": [
    "class Net(nn.Module):\n",
    "\n",
    "    def __init__(self):\n",
    "        super(Net, self).__init__()\n",
    "        # Setting up variables, these variables are weights in your \n",
    "        # network that can be updated while running our graph.\n",
    "        # Notice, to make a hidden layer, the weights need to have the \n",
    "        # following dimensionality:\n",
    "        #   W[number_of_units_going_out, number_of_units_going_in]\n",
    "        #   b[number_of_units_going_out]\n",
    "        # in the example below we have 2 input units (num_features) and 2 output units (num_output)\n",
    "        # so our weights become W[2, 2], b[2]\n",
    "        # if we want to make a hidden layer with 100 units, we need to define the shape of the\n",
    "        # first weight to W[100, 2], b[2] and the shape of the second weight to W[2, 100], b[2]\n",
    "        \n",
    "        # first layer\n",
    "        self.W_1 = Parameter(torch.randn(num_hidden_layer, num_features)) \n",
    "        self.b_1 = Parameter(torch.randn(num_hidden_layer))\n",
    "        \n",
    "        # second layer (to be completed as an exercise)\n",
    "        # NB when you create a second layer, remember that you also must change parts of the first layer\n",
    "        self.W_2 = Parameter(torch.randn(num_output,num_hidden_layer)) \n",
    "        self.b_2 = Parameter(torch.randn(num_output))\n",
    "        \n",
    "    def forward(self, x):\n",
    "        # Setting up ops, these ops will define edges along our computational graph\n",
    "        # The below ops will compute a logistic regression, \n",
    "        # but can be modified to compute a neural network\n",
    "        x = F.linear(x, self.W_1, self.b_1)\n",
    "        x = F.tanh(x)\n",
    "        # second layer (to be completed as an exercise)\n",
    "        # NB when you create a second layer, remember that you also must change parts of the first layer\n",
    "        x = F.linear(x, self.W_2, self.b_2)\n",
    "        return F.softmax(x, dim=1) # softmax to be performed on the second dimension\n",
    "\n",
    "net = Net()"
   ]
  },
  {
   "cell_type": "markdown",
   "metadata": {},
   "source": [
    "Knowing how to print your tensors is useful"
   ]
  },
  {
   "cell_type": "code",
   "execution_count": 24,
   "metadata": {},
   "outputs": [
    {
     "name": "stdout",
     "output_type": "stream",
     "text": [
      "NAMED PARAMETERS\n",
      "[('W_1', Parameter containing:\n",
      "tensor([[ 0.4261,  0.1432],\n",
      "        [ 0.3093, -0.4348],\n",
      "        [ 0.2247, -1.2663],\n",
      "        [-0.3056,  0.8025],\n",
      "        [-1.6283,  0.9899],\n",
      "        [-1.6406, -1.4704],\n",
      "        [ 0.7724, -0.9869],\n",
      "        [ 2.0143,  1.0926],\n",
      "        [ 1.8731,  1.4910],\n",
      "        [ 1.4490, -0.1259],\n",
      "        [-1.0068, -0.1641],\n",
      "        [-0.3483, -0.5737],\n",
      "        [ 0.4135,  1.3441],\n",
      "        [-0.3805, -0.7456],\n",
      "        [-0.3540, -1.2844],\n",
      "        [-0.6793,  0.2785],\n",
      "        [ 0.4846, -0.2579],\n",
      "        [ 1.4607, -0.5846],\n",
      "        [-0.6689,  1.3412],\n",
      "        [ 0.1521, -1.0087],\n",
      "        [-0.0500, -0.2355],\n",
      "        [ 1.2486, -0.2327],\n",
      "        [ 0.2233, -0.6197],\n",
      "        [ 0.6908,  0.3380],\n",
      "        [-1.1772, -0.9908],\n",
      "        [-1.3409,  0.4578],\n",
      "        [ 1.9335,  0.1863],\n",
      "        [ 1.1118, -0.2138],\n",
      "        [-1.0512,  0.9215],\n",
      "        [-1.5517,  0.9422],\n",
      "        [ 2.3525, -0.5479],\n",
      "        [ 1.4040, -0.1784],\n",
      "        [ 0.3390, -0.8670],\n",
      "        [ 2.1567, -0.5013],\n",
      "        [-0.7827, -0.2204],\n",
      "        [ 0.0409, -0.2091],\n",
      "        [ 0.1016,  1.0045],\n",
      "        [ 1.1999,  1.1328],\n",
      "        [ 2.1157,  0.9664],\n",
      "        [-1.2106, -0.8137],\n",
      "        [-0.1088, -1.0067],\n",
      "        [-0.0310, -1.0382],\n",
      "        [-0.9875, -0.9267],\n",
      "        [-1.8107, -0.4928],\n",
      "        [ 3.4161, -0.6969],\n",
      "        [ 1.5366, -0.5583],\n",
      "        [-0.9624,  1.5523],\n",
      "        [ 0.8847,  2.3242],\n",
      "        [-1.9166,  1.1996],\n",
      "        [ 0.7706, -0.4186],\n",
      "        [-0.3039,  2.5200],\n",
      "        [ 0.6278,  0.7805],\n",
      "        [ 0.1665,  0.4505],\n",
      "        [-0.6573, -0.8362],\n",
      "        [-0.3687,  1.5913],\n",
      "        [-0.5329, -1.1508],\n",
      "        [ 2.2700,  0.0799],\n",
      "        [-0.6969, -1.2553],\n",
      "        [ 0.2388, -1.5533],\n",
      "        [-0.3027,  0.8889],\n",
      "        [-1.1200,  0.7568],\n",
      "        [ 1.2701, -1.5322],\n",
      "        [ 0.3919, -0.3574],\n",
      "        [-0.9691, -0.3024],\n",
      "        [-0.1782, -0.6080],\n",
      "        [ 1.0459, -0.8061],\n",
      "        [-1.2975,  1.2266],\n",
      "        [-0.1215, -0.0991],\n",
      "        [ 0.3732, -1.1195],\n",
      "        [ 0.0259, -0.8835],\n",
      "        [-1.3051,  0.4637],\n",
      "        [ 0.7241, -1.7877],\n",
      "        [-0.8065,  0.0965],\n",
      "        [ 0.5973,  0.2914],\n",
      "        [ 0.9838, -2.1587],\n",
      "        [-0.5618, -1.1530],\n",
      "        [-0.5597, -0.9917],\n",
      "        [ 0.0506,  1.5073],\n",
      "        [ 0.3818, -2.1280],\n",
      "        [-1.1024,  0.4042],\n",
      "        [ 0.4480, -0.2084],\n",
      "        [-1.5966, -0.6357],\n",
      "        [-0.2493, -1.3126],\n",
      "        [ 0.1842, -0.6300],\n",
      "        [ 0.2550, -0.3568],\n",
      "        [ 0.6442,  0.8043],\n",
      "        [ 0.2857,  0.2138],\n",
      "        [-0.6821,  0.9810],\n",
      "        [-0.0922,  0.9252],\n",
      "        [ 0.8595,  0.2543],\n",
      "        [ 0.2514, -0.0354],\n",
      "        [ 0.1626,  0.8484],\n",
      "        [ 0.4908, -2.0613],\n",
      "        [-0.1311, -0.2668],\n",
      "        [ 0.5574, -0.5896],\n",
      "        [-0.0721,  0.5247],\n",
      "        [-1.7256, -0.1054],\n",
      "        [-1.1877, -0.8665],\n",
      "        [-0.0335, -1.0944],\n",
      "        [-0.5753,  0.3715]], requires_grad=True)), ('b_1', Parameter containing:\n",
      "tensor([ 0.2637, -0.7645,  1.9149, -0.4155,  1.4824, -0.7854,  2.5148, -1.0380,\n",
      "         0.3797,  0.8180,  0.6909,  0.4208,  0.3724, -0.2156,  1.4100,  0.1538,\n",
      "         0.4268, -0.9838, -0.3301,  1.1201,  0.1394,  0.0813, -1.2024,  0.0058,\n",
      "        -0.6600, -0.9112,  0.2374,  0.0605, -1.0770, -1.8852,  0.7057, -0.4249,\n",
      "        -1.7622,  0.3768,  2.1738, -0.5811,  0.1724, -0.8737,  0.6533, -0.1530,\n",
      "        -0.8946, -0.0915,  0.8720, -0.5543, -0.9771,  1.1373, -0.5605, -0.0572,\n",
      "        -1.5433, -0.8944,  0.9592,  1.9544,  1.4017, -0.2756, -0.8004, -0.4641,\n",
      "        -0.1901,  0.1766, -0.6244, -1.0396,  0.7339,  0.9279,  1.0182, -0.6644,\n",
      "        -1.0256, -0.5294, -0.8528, -0.2905,  0.9711,  0.3872,  0.7149, -0.4488,\n",
      "        -0.1833,  1.9008,  1.0804, -1.3768, -0.7238,  1.0815, -2.1257,  2.3735,\n",
      "         0.3070,  0.5163, -0.2556, -0.9224, -1.0419,  1.3117,  0.0993,  1.6554,\n",
      "         0.1249,  1.2395, -1.2270,  0.3056,  0.0525, -1.2278, -1.1666,  0.2676,\n",
      "         0.6646, -1.7363,  0.6506,  0.2233], requires_grad=True)), ('W_2', Parameter containing:\n",
      "tensor([[ 0.9121,  0.3615, -1.7635,  0.1253, -0.1174,  0.7726, -0.9730,  0.5621,\n",
      "         -0.0913, -0.6156, -1.1303, -1.9594, -1.3612,  1.2256, -0.8498, -0.7485,\n",
      "          0.2916,  0.8191, -0.5644, -0.6636,  0.3841,  0.9958, -0.8888, -0.1911,\n",
      "          0.5547, -0.5263,  0.7037, -0.6927, -0.0157, -1.9756, -1.0994, -0.1178,\n",
      "          1.6307, -0.5788, -0.1514, -0.0146,  0.1303,  0.5326,  0.9932,  0.3561,\n",
      "          0.0521,  1.3829, -1.5025, -0.2546, -0.8045, -0.2404, -0.2656,  0.0673,\n",
      "          0.8720, -0.1187, -0.0458,  0.6199,  0.3860,  2.1218, -0.4255, -2.3936,\n",
      "          1.5353, -0.0416,  0.3409, -1.2666,  1.5122,  1.0258, -0.8733, -0.6403,\n",
      "         -0.1255, -0.3396,  1.1069,  0.7578, -1.3751,  0.9743,  0.0076,  0.3909,\n",
      "         -0.2013, -0.2855,  1.1596,  1.7568,  0.0104, -0.5550, -1.1296,  0.2573,\n",
      "         -0.1701,  0.0466, -0.2765, -0.0338,  1.0776, -0.5260,  0.6372, -2.1548,\n",
      "         -0.2120,  0.5339,  2.1699, -1.3611,  0.5538, -0.4061,  1.0344, -0.7426,\n",
      "         -1.1032, -0.1357,  1.1159,  1.1509],\n",
      "        [ 2.1082,  1.1696,  0.0067, -1.5401,  1.1720, -1.5594, -0.6943, -1.8654,\n",
      "         -1.1188,  0.9237,  0.4179, -0.8673,  0.6905, -0.5694,  1.2933, -0.5812,\n",
      "         -0.1523, -0.8098,  0.8164, -0.8476,  0.1882,  0.4344,  0.2973,  1.4942,\n",
      "         -0.0210, -1.0234,  1.6825,  0.0970,  1.7513,  0.2572,  2.0519,  2.1060,\n",
      "         -0.3489, -0.7174,  0.5747, -1.8623, -0.3854, -0.9837,  0.0782,  0.1780,\n",
      "          0.0816,  0.1001, -1.0097, -0.5485,  0.3896, -0.3165, -0.6163,  0.4626,\n",
      "         -1.3461,  0.8357, -0.7636, -0.4652, -1.0760,  0.4762,  0.8543,  2.1641,\n",
      "          1.2557,  0.3023,  0.4233, -0.2329, -0.4867,  0.8911, -0.2062,  0.0898,\n",
      "          0.6816, -1.0426, -0.7379, -0.7641,  0.2820, -1.2710,  0.4589,  0.5074,\n",
      "         -0.2147,  0.7976,  1.1429, -0.7146,  1.8753, -0.8920, -0.1808, -1.7910,\n",
      "         -1.3597, -0.5185, -1.2628,  2.1084, -0.1772,  1.4175,  1.7166,  1.0437,\n",
      "          1.3060,  0.5006, -0.1942,  0.9704, -0.0241, -1.9886, -0.1746,  0.0853,\n",
      "          1.8367, -0.9269, -0.4758,  0.1289]], requires_grad=True)), ('b_2', Parameter containing:\n",
      "tensor([0.2809, 1.9481], requires_grad=True))]\n",
      "\n",
      "PARAMETERS\n",
      "[Parameter containing:\n",
      "tensor([[ 0.4261,  0.1432],\n",
      "        [ 0.3093, -0.4348],\n",
      "        [ 0.2247, -1.2663],\n",
      "        [-0.3056,  0.8025],\n",
      "        [-1.6283,  0.9899],\n",
      "        [-1.6406, -1.4704],\n",
      "        [ 0.7724, -0.9869],\n",
      "        [ 2.0143,  1.0926],\n",
      "        [ 1.8731,  1.4910],\n",
      "        [ 1.4490, -0.1259],\n",
      "        [-1.0068, -0.1641],\n",
      "        [-0.3483, -0.5737],\n",
      "        [ 0.4135,  1.3441],\n",
      "        [-0.3805, -0.7456],\n",
      "        [-0.3540, -1.2844],\n",
      "        [-0.6793,  0.2785],\n",
      "        [ 0.4846, -0.2579],\n",
      "        [ 1.4607, -0.5846],\n",
      "        [-0.6689,  1.3412],\n",
      "        [ 0.1521, -1.0087],\n",
      "        [-0.0500, -0.2355],\n",
      "        [ 1.2486, -0.2327],\n",
      "        [ 0.2233, -0.6197],\n",
      "        [ 0.6908,  0.3380],\n",
      "        [-1.1772, -0.9908],\n",
      "        [-1.3409,  0.4578],\n",
      "        [ 1.9335,  0.1863],\n",
      "        [ 1.1118, -0.2138],\n",
      "        [-1.0512,  0.9215],\n",
      "        [-1.5517,  0.9422],\n",
      "        [ 2.3525, -0.5479],\n",
      "        [ 1.4040, -0.1784],\n",
      "        [ 0.3390, -0.8670],\n",
      "        [ 2.1567, -0.5013],\n",
      "        [-0.7827, -0.2204],\n",
      "        [ 0.0409, -0.2091],\n",
      "        [ 0.1016,  1.0045],\n",
      "        [ 1.1999,  1.1328],\n",
      "        [ 2.1157,  0.9664],\n",
      "        [-1.2106, -0.8137],\n",
      "        [-0.1088, -1.0067],\n",
      "        [-0.0310, -1.0382],\n",
      "        [-0.9875, -0.9267],\n",
      "        [-1.8107, -0.4928],\n",
      "        [ 3.4161, -0.6969],\n",
      "        [ 1.5366, -0.5583],\n",
      "        [-0.9624,  1.5523],\n",
      "        [ 0.8847,  2.3242],\n",
      "        [-1.9166,  1.1996],\n",
      "        [ 0.7706, -0.4186],\n",
      "        [-0.3039,  2.5200],\n",
      "        [ 0.6278,  0.7805],\n",
      "        [ 0.1665,  0.4505],\n",
      "        [-0.6573, -0.8362],\n",
      "        [-0.3687,  1.5913],\n",
      "        [-0.5329, -1.1508],\n",
      "        [ 2.2700,  0.0799],\n",
      "        [-0.6969, -1.2553],\n",
      "        [ 0.2388, -1.5533],\n",
      "        [-0.3027,  0.8889],\n",
      "        [-1.1200,  0.7568],\n",
      "        [ 1.2701, -1.5322],\n",
      "        [ 0.3919, -0.3574],\n",
      "        [-0.9691, -0.3024],\n",
      "        [-0.1782, -0.6080],\n",
      "        [ 1.0459, -0.8061],\n",
      "        [-1.2975,  1.2266],\n",
      "        [-0.1215, -0.0991],\n",
      "        [ 0.3732, -1.1195],\n",
      "        [ 0.0259, -0.8835],\n",
      "        [-1.3051,  0.4637],\n",
      "        [ 0.7241, -1.7877],\n",
      "        [-0.8065,  0.0965],\n",
      "        [ 0.5973,  0.2914],\n",
      "        [ 0.9838, -2.1587],\n",
      "        [-0.5618, -1.1530],\n",
      "        [-0.5597, -0.9917],\n",
      "        [ 0.0506,  1.5073],\n",
      "        [ 0.3818, -2.1280],\n",
      "        [-1.1024,  0.4042],\n",
      "        [ 0.4480, -0.2084],\n",
      "        [-1.5966, -0.6357],\n",
      "        [-0.2493, -1.3126],\n",
      "        [ 0.1842, -0.6300],\n",
      "        [ 0.2550, -0.3568],\n",
      "        [ 0.6442,  0.8043],\n",
      "        [ 0.2857,  0.2138],\n",
      "        [-0.6821,  0.9810],\n",
      "        [-0.0922,  0.9252],\n",
      "        [ 0.8595,  0.2543],\n",
      "        [ 0.2514, -0.0354],\n",
      "        [ 0.1626,  0.8484],\n",
      "        [ 0.4908, -2.0613],\n",
      "        [-0.1311, -0.2668],\n",
      "        [ 0.5574, -0.5896],\n",
      "        [-0.0721,  0.5247],\n",
      "        [-1.7256, -0.1054],\n",
      "        [-1.1877, -0.8665],\n",
      "        [-0.0335, -1.0944],\n",
      "        [-0.5753,  0.3715]], requires_grad=True), Parameter containing:\n",
      "tensor([ 0.2637, -0.7645,  1.9149, -0.4155,  1.4824, -0.7854,  2.5148, -1.0380,\n",
      "         0.3797,  0.8180,  0.6909,  0.4208,  0.3724, -0.2156,  1.4100,  0.1538,\n",
      "         0.4268, -0.9838, -0.3301,  1.1201,  0.1394,  0.0813, -1.2024,  0.0058,\n",
      "        -0.6600, -0.9112,  0.2374,  0.0605, -1.0770, -1.8852,  0.7057, -0.4249,\n",
      "        -1.7622,  0.3768,  2.1738, -0.5811,  0.1724, -0.8737,  0.6533, -0.1530,\n",
      "        -0.8946, -0.0915,  0.8720, -0.5543, -0.9771,  1.1373, -0.5605, -0.0572,\n",
      "        -1.5433, -0.8944,  0.9592,  1.9544,  1.4017, -0.2756, -0.8004, -0.4641,\n",
      "        -0.1901,  0.1766, -0.6244, -1.0396,  0.7339,  0.9279,  1.0182, -0.6644,\n",
      "        -1.0256, -0.5294, -0.8528, -0.2905,  0.9711,  0.3872,  0.7149, -0.4488,\n",
      "        -0.1833,  1.9008,  1.0804, -1.3768, -0.7238,  1.0815, -2.1257,  2.3735,\n",
      "         0.3070,  0.5163, -0.2556, -0.9224, -1.0419,  1.3117,  0.0993,  1.6554,\n",
      "         0.1249,  1.2395, -1.2270,  0.3056,  0.0525, -1.2278, -1.1666,  0.2676,\n",
      "         0.6646, -1.7363,  0.6506,  0.2233], requires_grad=True), Parameter containing:\n",
      "tensor([[ 0.9121,  0.3615, -1.7635,  0.1253, -0.1174,  0.7726, -0.9730,  0.5621,\n",
      "         -0.0913, -0.6156, -1.1303, -1.9594, -1.3612,  1.2256, -0.8498, -0.7485,\n",
      "          0.2916,  0.8191, -0.5644, -0.6636,  0.3841,  0.9958, -0.8888, -0.1911,\n",
      "          0.5547, -0.5263,  0.7037, -0.6927, -0.0157, -1.9756, -1.0994, -0.1178,\n",
      "          1.6307, -0.5788, -0.1514, -0.0146,  0.1303,  0.5326,  0.9932,  0.3561,\n",
      "          0.0521,  1.3829, -1.5025, -0.2546, -0.8045, -0.2404, -0.2656,  0.0673,\n",
      "          0.8720, -0.1187, -0.0458,  0.6199,  0.3860,  2.1218, -0.4255, -2.3936,\n",
      "          1.5353, -0.0416,  0.3409, -1.2666,  1.5122,  1.0258, -0.8733, -0.6403,\n",
      "         -0.1255, -0.3396,  1.1069,  0.7578, -1.3751,  0.9743,  0.0076,  0.3909,\n",
      "         -0.2013, -0.2855,  1.1596,  1.7568,  0.0104, -0.5550, -1.1296,  0.2573,\n",
      "         -0.1701,  0.0466, -0.2765, -0.0338,  1.0776, -0.5260,  0.6372, -2.1548,\n",
      "         -0.2120,  0.5339,  2.1699, -1.3611,  0.5538, -0.4061,  1.0344, -0.7426,\n",
      "         -1.1032, -0.1357,  1.1159,  1.1509],\n",
      "        [ 2.1082,  1.1696,  0.0067, -1.5401,  1.1720, -1.5594, -0.6943, -1.8654,\n",
      "         -1.1188,  0.9237,  0.4179, -0.8673,  0.6905, -0.5694,  1.2933, -0.5812,\n",
      "         -0.1523, -0.8098,  0.8164, -0.8476,  0.1882,  0.4344,  0.2973,  1.4942,\n",
      "         -0.0210, -1.0234,  1.6825,  0.0970,  1.7513,  0.2572,  2.0519,  2.1060,\n",
      "         -0.3489, -0.7174,  0.5747, -1.8623, -0.3854, -0.9837,  0.0782,  0.1780,\n",
      "          0.0816,  0.1001, -1.0097, -0.5485,  0.3896, -0.3165, -0.6163,  0.4626,\n",
      "         -1.3461,  0.8357, -0.7636, -0.4652, -1.0760,  0.4762,  0.8543,  2.1641,\n",
      "          1.2557,  0.3023,  0.4233, -0.2329, -0.4867,  0.8911, -0.2062,  0.0898,\n",
      "          0.6816, -1.0426, -0.7379, -0.7641,  0.2820, -1.2710,  0.4589,  0.5074,\n",
      "         -0.2147,  0.7976,  1.1429, -0.7146,  1.8753, -0.8920, -0.1808, -1.7910,\n",
      "         -1.3597, -0.5185, -1.2628,  2.1084, -0.1772,  1.4175,  1.7166,  1.0437,\n",
      "          1.3060,  0.5006, -0.1942,  0.9704, -0.0241, -1.9886, -0.1746,  0.0853,\n",
      "          1.8367, -0.9269, -0.4758,  0.1289]], requires_grad=True), Parameter containing:\n"
     ]
    },
    {
     "name": "stdout",
     "output_type": "stream",
     "text": [
      "tensor([0.2809, 1.9481], requires_grad=True)]\n",
      "\n",
      "WEIGHTS\n",
      "Parameter containing:\n",
      "tensor([[ 0.4261,  0.1432],\n",
      "        [ 0.3093, -0.4348],\n",
      "        [ 0.2247, -1.2663],\n",
      "        [-0.3056,  0.8025],\n",
      "        [-1.6283,  0.9899],\n",
      "        [-1.6406, -1.4704],\n",
      "        [ 0.7724, -0.9869],\n",
      "        [ 2.0143,  1.0926],\n",
      "        [ 1.8731,  1.4910],\n",
      "        [ 1.4490, -0.1259],\n",
      "        [-1.0068, -0.1641],\n",
      "        [-0.3483, -0.5737],\n",
      "        [ 0.4135,  1.3441],\n",
      "        [-0.3805, -0.7456],\n",
      "        [-0.3540, -1.2844],\n",
      "        [-0.6793,  0.2785],\n",
      "        [ 0.4846, -0.2579],\n",
      "        [ 1.4607, -0.5846],\n",
      "        [-0.6689,  1.3412],\n",
      "        [ 0.1521, -1.0087],\n",
      "        [-0.0500, -0.2355],\n",
      "        [ 1.2486, -0.2327],\n",
      "        [ 0.2233, -0.6197],\n",
      "        [ 0.6908,  0.3380],\n",
      "        [-1.1772, -0.9908],\n",
      "        [-1.3409,  0.4578],\n",
      "        [ 1.9335,  0.1863],\n",
      "        [ 1.1118, -0.2138],\n",
      "        [-1.0512,  0.9215],\n",
      "        [-1.5517,  0.9422],\n",
      "        [ 2.3525, -0.5479],\n",
      "        [ 1.4040, -0.1784],\n",
      "        [ 0.3390, -0.8670],\n",
      "        [ 2.1567, -0.5013],\n",
      "        [-0.7827, -0.2204],\n",
      "        [ 0.0409, -0.2091],\n",
      "        [ 0.1016,  1.0045],\n",
      "        [ 1.1999,  1.1328],\n",
      "        [ 2.1157,  0.9664],\n",
      "        [-1.2106, -0.8137],\n",
      "        [-0.1088, -1.0067],\n",
      "        [-0.0310, -1.0382],\n",
      "        [-0.9875, -0.9267],\n",
      "        [-1.8107, -0.4928],\n",
      "        [ 3.4161, -0.6969],\n",
      "        [ 1.5366, -0.5583],\n",
      "        [-0.9624,  1.5523],\n",
      "        [ 0.8847,  2.3242],\n",
      "        [-1.9166,  1.1996],\n",
      "        [ 0.7706, -0.4186],\n",
      "        [-0.3039,  2.5200],\n",
      "        [ 0.6278,  0.7805],\n",
      "        [ 0.1665,  0.4505],\n",
      "        [-0.6573, -0.8362],\n",
      "        [-0.3687,  1.5913],\n",
      "        [-0.5329, -1.1508],\n",
      "        [ 2.2700,  0.0799],\n",
      "        [-0.6969, -1.2553],\n",
      "        [ 0.2388, -1.5533],\n",
      "        [-0.3027,  0.8889],\n",
      "        [-1.1200,  0.7568],\n",
      "        [ 1.2701, -1.5322],\n",
      "        [ 0.3919, -0.3574],\n",
      "        [-0.9691, -0.3024],\n",
      "        [-0.1782, -0.6080],\n",
      "        [ 1.0459, -0.8061],\n",
      "        [-1.2975,  1.2266],\n",
      "        [-0.1215, -0.0991],\n",
      "        [ 0.3732, -1.1195],\n",
      "        [ 0.0259, -0.8835],\n",
      "        [-1.3051,  0.4637],\n",
      "        [ 0.7241, -1.7877],\n",
      "        [-0.8065,  0.0965],\n",
      "        [ 0.5973,  0.2914],\n",
      "        [ 0.9838, -2.1587],\n",
      "        [-0.5618, -1.1530],\n",
      "        [-0.5597, -0.9917],\n",
      "        [ 0.0506,  1.5073],\n",
      "        [ 0.3818, -2.1280],\n",
      "        [-1.1024,  0.4042],\n",
      "        [ 0.4480, -0.2084],\n",
      "        [-1.5966, -0.6357],\n",
      "        [-0.2493, -1.3126],\n",
      "        [ 0.1842, -0.6300],\n",
      "        [ 0.2550, -0.3568],\n",
      "        [ 0.6442,  0.8043],\n",
      "        [ 0.2857,  0.2138],\n",
      "        [-0.6821,  0.9810],\n",
      "        [-0.0922,  0.9252],\n",
      "        [ 0.8595,  0.2543],\n",
      "        [ 0.2514, -0.0354],\n",
      "        [ 0.1626,  0.8484],\n",
      "        [ 0.4908, -2.0613],\n",
      "        [-0.1311, -0.2668],\n",
      "        [ 0.5574, -0.5896],\n",
      "        [-0.0721,  0.5247],\n",
      "        [-1.7256, -0.1054],\n",
      "        [-1.1877, -0.8665],\n",
      "        [-0.0335, -1.0944],\n",
      "        [-0.5753,  0.3715]], requires_grad=True)\n",
      "torch.Size([100, 2])\n",
      "\n",
      "BIAS\n",
      "Parameter containing:\n",
      "tensor([ 0.2637, -0.7645,  1.9149, -0.4155,  1.4824, -0.7854,  2.5148, -1.0380,\n",
      "         0.3797,  0.8180,  0.6909,  0.4208,  0.3724, -0.2156,  1.4100,  0.1538,\n",
      "         0.4268, -0.9838, -0.3301,  1.1201,  0.1394,  0.0813, -1.2024,  0.0058,\n",
      "        -0.6600, -0.9112,  0.2374,  0.0605, -1.0770, -1.8852,  0.7057, -0.4249,\n",
      "        -1.7622,  0.3768,  2.1738, -0.5811,  0.1724, -0.8737,  0.6533, -0.1530,\n",
      "        -0.8946, -0.0915,  0.8720, -0.5543, -0.9771,  1.1373, -0.5605, -0.0572,\n",
      "        -1.5433, -0.8944,  0.9592,  1.9544,  1.4017, -0.2756, -0.8004, -0.4641,\n",
      "        -0.1901,  0.1766, -0.6244, -1.0396,  0.7339,  0.9279,  1.0182, -0.6644,\n",
      "        -1.0256, -0.5294, -0.8528, -0.2905,  0.9711,  0.3872,  0.7149, -0.4488,\n",
      "        -0.1833,  1.9008,  1.0804, -1.3768, -0.7238,  1.0815, -2.1257,  2.3735,\n",
      "         0.3070,  0.5163, -0.2556, -0.9224, -1.0419,  1.3117,  0.0993,  1.6554,\n",
      "         0.1249,  1.2395, -1.2270,  0.3056,  0.0525, -1.2278, -1.1666,  0.2676,\n",
      "         0.6646, -1.7363,  0.6506,  0.2233], requires_grad=True)\n",
      "torch.Size([100])\n"
     ]
    }
   ],
   "source": [
    "# list all parameters in your network\n",
    "print(\"NAMED PARAMETERS\")\n",
    "print(list(net.named_parameters()))\n",
    "print()\n",
    "# the .parameters() method simply gives the Tensors in the list\n",
    "print(\"PARAMETERS\")\n",
    "print(list(net.parameters()))\n",
    "print()\n",
    "\n",
    "# list individual parameters by name\n",
    "print('WEIGHTS')\n",
    "print(net.W_1)\n",
    "print(net.W_1.size())\n",
    "print('\\nBIAS')\n",
    "print(net.b_1)\n",
    "print(net.b_1.size())"
   ]
  },
  {
   "cell_type": "markdown",
   "metadata": {},
   "source": [
    "# Exploring Parameter\n",
    "\n",
    "Ok, let's investigate what a Parameter/Variable is"
   ]
  },
  {
   "cell_type": "code",
   "execution_count": 8,
   "metadata": {},
   "outputs": [
    {
     "name": "stdout",
     "output_type": "stream",
     "text": [
      "## this is the tensor\n",
      "tensor([[-0.1328,  0.9925],\n",
      "        [-1.8058, -0.0729]])\n",
      "\n",
      "## this is the tensor's gradient\n",
      "None\n",
      "\n",
      "## is it a leaf in the graph?\n",
      "True\n"
     ]
    }
   ],
   "source": [
    "param = net.W_1\n",
    "print(\"## this is the tensor\")\n",
    "print(param.data)\n",
    "print(\"\\n## this is the tensor's gradient\")\n",
    "print(param.grad)\n",
    "# notice, the gradient is undefined because we have not yet run a backward pass\n",
    "\n",
    "print(\"\\n## is it a leaf in the graph?\")\n",
    "print(param.is_leaf)"
   ]
  },
  {
   "cell_type": "markdown",
   "metadata": {},
   "source": [
    "## Excluding subgraphs from backward propagation\n",
    "\n",
    "`Variable`s have two properties which allow you to define if a graph is going to be used for training or inference, `requires_grad` and `volatile`.\n",
    "During training we might not want to compute the gradients for all layers, e.g. if we have a pretrained model or embeddings that we do not want to change the values of.\n",
    "To compute gradients we need to store activations and compute the backward pass for the given layer.\n",
    "Setting `requires_grad = False` will allow you to circumvent these properties.\n",
    "If any paramater in an operation / layer requires gradient then the entire output of the operation will also require gradient.\n",
    "\n",
    "The `volatile` property is mostly used when you want to run inference with your model, and if it is set to `True` the entire graph will not require gradient. This means that you expect to never call `.backward()` on the network.\n",
    "\n",
    "See http://pytorch.org/docs/master/notes/autograd.html for an in-depth explanation."
   ]
  },
  {
   "cell_type": "markdown",
   "metadata": {},
   "source": [
    "# Test network\n",
    "\n",
    "To use our network we can simply call our graph, and it will dynamically be created. Here is an example of running the network's forward pass."
   ]
  },
  {
   "cell_type": "code",
   "execution_count": 9,
   "metadata": {},
   "outputs": [
    {
     "name": "stdout",
     "output_type": "stream",
     "text": [
      "input\n",
      "tensor([[ 0.3555, -0.0526],\n",
      "        [-1.1713, -0.6868],\n",
      "        [ 1.2298, -1.4240],\n",
      "        [ 1.1103, -1.6895],\n",
      "        [ 0.9128, -0.2777]])\n",
      "\n",
      "output\n",
      "tensor([[0.9424, 0.0576],\n",
      "        [0.3931, 0.6069],\n",
      "        [0.9425, 0.0575],\n",
      "        [0.9101, 0.0899],\n",
      "        [0.9704, 0.0296]], grad_fn=<SoftmaxBackward>)\n"
     ]
    }
   ],
   "source": [
    "X = Variable(torch.randn(5, num_features))\n",
    "# the net.__call__ runs some pre-defined functions\n",
    "# both before and after running net.forward()\n",
    "# see http://pytorch.org/docs/master/_modules/torch/nn/modules/module.html\n",
    "\n",
    "print('input')\n",
    "print(X)\n",
    "\n",
    "print('\\noutput')\n",
    "print(net(X))"
   ]
  },
  {
   "cell_type": "markdown",
   "metadata": {},
   "source": [
    "Parameters is a special case of Variable "
   ]
  },
  {
   "cell_type": "code",
   "execution_count": 10,
   "metadata": {},
   "outputs": [
    {
     "name": "stdout",
     "output_type": "stream",
     "text": [
      "tensor([[-0.1328,  0.9925],\n",
      "        [-1.8058, -0.0729]])\n",
      "None\n",
      "\n",
      "tensor([ 1.0014, -1.2556])\n",
      "None\n",
      "\n"
     ]
    }
   ],
   "source": [
    "# let's take a look at the gradients\n",
    "for p in net.parameters():\n",
    "    print(p.data)\n",
    "    print(p.grad)\n",
    "    print()"
   ]
  },
  {
   "cell_type": "code",
   "execution_count": 11,
   "metadata": {},
   "outputs": [],
   "source": [
    "X = Variable(torch.randn(7, num_features))\n",
    "out = net(X)\n",
    "# we need to give a tensor of gradients to .backward,\n",
    "# we give a dummy tensor\n",
    "out.backward(torch.randn(7, num_output))"
   ]
  },
  {
   "cell_type": "markdown",
   "metadata": {},
   "source": [
    "for details on `.backward()`, see http://pytorch.org/docs/master/autograd.html#torch.autograd.backward"
   ]
  },
  {
   "cell_type": "code",
   "execution_count": 13,
   "metadata": {},
   "outputs": [
    {
     "name": "stdout",
     "output_type": "stream",
     "text": [
      "tensor([[-0.1328,  0.9925],\n",
      "        [-1.8058, -0.0729]])\n",
      "tensor([[ 0.0217, -0.0664],\n",
      "        [-0.0217,  0.0664]])\n",
      "\n",
      "tensor([ 1.0014, -1.2556])\n",
      "tensor([-0.4226,  0.4226])\n",
      "\n"
     ]
    }
   ],
   "source": [
    "# let's take a look at the gradients\n",
    "for p in net.parameters():\n",
    "    print(p.data)\n",
    "    print(p.grad)\n",
    "    print()"
   ]
  },
  {
   "cell_type": "code",
   "execution_count": 14,
   "metadata": {},
   "outputs": [
    {
     "name": "stdout",
     "output_type": "stream",
     "text": [
      "tensor([[-0.1328,  0.9925],\n",
      "        [-1.8058, -0.0729]])\n",
      "tensor([[0., 0.],\n",
      "        [0., 0.]])\n",
      "tensor([ 1.0014, -1.2556])\n",
      "tensor([0., 0.])\n"
     ]
    }
   ],
   "source": [
    "# ok, let's try and zero the accumulated gradients\n",
    "net.zero_grad()\n",
    "for p in net.parameters():\n",
    "    print(p.data)\n",
    "    print(p.grad)"
   ]
  },
  {
   "cell_type": "markdown",
   "metadata": {},
   "source": [
    "# Loss function\n",
    "\n",
    "Let's define a custom loss function to compute how good our graph is doing."
   ]
  },
  {
   "cell_type": "code",
   "execution_count": 15,
   "metadata": {},
   "outputs": [],
   "source": [
    "def cross_entropy(ys, ts):\n",
    "    # computing cross entropy per sample\n",
    "    cross_entropy = -torch.sum(ts * torch.log(ys), dim=1, keepdim=False)\n",
    "    # averaging over samples\n",
    "    return torch.mean(cross_entropy)"
   ]
  },
  {
   "cell_type": "markdown",
   "metadata": {},
   "source": [
    "To train our neural network we need to update the parameters in direction of the negative gradient w.r.t the cost function we defined earlier.\n",
    "We can use [`torch.optim`](http://pytorch.org/docs/master/optim.html) to get the gradients with some update rule for all parameters in the network.\n",
    "\n",
    "Heres a small animation of gradient descent: http://imgur.com/a/Hqolp, which also illustrates which challenges optimizers might face, e.g. saddle points."
   ]
  },
  {
   "cell_type": "code",
   "execution_count": 16,
   "metadata": {},
   "outputs": [],
   "source": [
    "import torch.optim as optim\n",
    "\n",
    "optimizer = optim.SGD(net.parameters(), lr=0.01)"
   ]
  },
  {
   "cell_type": "markdown",
   "metadata": {},
   "source": [
    "Next, we make the prediction functions, such that we can get an accuracy measure over a batch"
   ]
  },
  {
   "cell_type": "code",
   "execution_count": 17,
   "metadata": {},
   "outputs": [],
   "source": [
    "def accuracy(ys, ts):\n",
    "    # making a one-hot encoded vector of correct (1) and incorrect (0) predictions\n",
    "    correct_prediction = torch.eq(torch.max(ys, 1)[1], torch.max(ts, 1)[1])\n",
    "    # averaging the one-hot encoded vector\n",
    "    return torch.mean(correct_prediction.float())"
   ]
  },
  {
   "cell_type": "markdown",
   "metadata": {},
   "source": [
    "The next step is to utilize our `optimizer` repeatedly in order to optimize our weights `W_1` and `b_1` to make the best possible linear seperation of the half moon dataset."
   ]
  },
  {
   "cell_type": "code",
   "execution_count": 49,
   "metadata": {
    "scrolled": false
   },
   "outputs": [
    {
     "name": "stdout",
     "output_type": "stream",
     "text": [
      "Epoch 0, Train Cost: 0.665\tVal Cost: 0.597\t Val acc: 0.810\n",
      "Epoch 100, Train Cost: 0.665\tVal Cost: 0.597\t Val acc: 0.810\n",
      "Epoch 200, Train Cost: 0.665\tVal Cost: 0.597\t Val acc: 0.810\n",
      "Epoch 300, Train Cost: 0.665\tVal Cost: 0.597\t Val acc: 0.810\n",
      "Epoch 400, Train Cost: 0.665\tVal Cost: 0.597\t Val acc: 0.810\n",
      "Epoch 500, Train Cost: 0.665\tVal Cost: 0.597\t Val acc: 0.810\n",
      "Epoch 600, Train Cost: 0.665\tVal Cost: 0.597\t Val acc: 0.810\n",
      "Epoch 700, Train Cost: 0.665\tVal Cost: 0.597\t Val acc: 0.810\n",
      "Epoch 800, Train Cost: 0.665\tVal Cost: 0.597\t Val acc: 0.810\n",
      "Epoch 900, Train Cost: 0.665\tVal Cost: 0.597\t Val acc: 0.810\n",
      "\n",
      "Test Cost: 0.579\tTest Accuracy: 0.800\n"
     ]
    },
    {
     "data": {
      "image/png": "[encoded data removed]",
      "text/plain": [
       "<Figure size 432x288 with 1 Axes>"
      ]
     },
     "metadata": {
      "needs_background": "light"
     },
     "output_type": "display_data"
    },
    {
     "data": {
      "image/png": "[encoded data removed]",
      "text/plain": [
       "<Figure size 432x288 with 1 Axes>"
      ]
     },
     "metadata": {
      "needs_background": "light"
     },
     "output_type": "display_data"
    },
    {
     "data": {
      "image/png": "[encoded data removed]",
      "text/plain": [
       "<Figure size 432x288 with 1 Axes>"
      ]
     },
     "metadata": {
      "needs_background": "light"
     },
     "output_type": "display_data"
    },
    {
     "data": {
      "image/png": "[encoded data removed]",
      "text/plain": [
       "<Figure size 432x288 with 1 Axes>"
      ]
     },
     "metadata": {
      "needs_background": "light"
     },
     "output_type": "display_data"
    }
   ],
   "source": [
    "# number of training passses\n",
    "num_epochs = 1000\n",
    "# store loss and accuracy for information\n",
    "train_losses, val_losses, train_accs, val_accs = [], [], [], []\n",
    "\n",
    "def pred(X):\n",
    "    \"\"\" Compute graph's prediction and return numpy array\n",
    "    \n",
    "    Parameters\n",
    "    ----------\n",
    "    X : numpy.ndarray\n",
    "    \n",
    "    Returns\n",
    "    -------\n",
    "    numpy.ndarray\n",
    "    \"\"\"\n",
    "    X = Variable(torch.from_numpy(X))\n",
    "    y = net(X)\n",
    "    return y.data.numpy()\n",
    "\n",
    "# plot boundary on testset before training session\n",
    "plot_decision_boundary(lambda x: pred(x), X_te, y_te)\n",
    "plt.title(\"Untrained Classifier\")\n",
    "\n",
    "# training loop\n",
    "for e in range(num_epochs):\n",
    "    # get training input and expected output as torch Variables and make sure type is correct\n",
    "    tr_input = Variable(torch.from_numpy(X_tr))\n",
    "    tr_targets = Variable(torch.from_numpy(onehot(y_tr, num_output))).float()\n",
    "    \n",
    "    # zeroize accumulated gradients in parameters\n",
    "    optimizer.zero_grad()\n",
    "    # predict by running forward pass\n",
    "    tr_output = net(tr_input)\n",
    "    # compute cross entropy loss\n",
    "    tr_loss = cross_entropy(tr_output, tr_targets)\n",
    "    # compute gradients given loss\n",
    "    tr_loss.backward()\n",
    "    # update the parameters given the computed gradients\n",
    "    optimizer.step()\n",
    "    train_acc = accuracy(tr_output, tr_targets)\n",
    "    \n",
    "    # store training loss\n",
    "    train_losses.append(tr_loss.data.numpy())\n",
    "    train_accs.append(train_acc)\n",
    "    \n",
    "    # get validation input and expected output as torch Variables and make sure type is correct\n",
    "    val_input = Variable(torch.from_numpy(X_val))\n",
    "    val_targets = Variable(torch.from_numpy(onehot(y_val, num_output))).float()\n",
    "    \n",
    "    # predict with validation input\n",
    "    val_output = net(val_input)\n",
    "    # compute loss and accuracy\n",
    "    val_loss = cross_entropy(val_output, val_targets)\n",
    "    val_acc = accuracy(val_output, val_targets)\n",
    "    \n",
    "    # store loss and accuracy\n",
    "    val_losses.append(val_loss.data.numpy())\n",
    "    val_accs.append(val_acc.data.numpy())\n",
    "    \n",
    "    if e % 100 == 0:\n",
    "        print(\"Epoch %i, \"\n",
    "              \"Train Cost: %0.3f\"\n",
    "              \"\\tVal Cost: %0.3f\"\n",
    "              \"\\t Val acc: %0.3f\" % (e, \n",
    "                                     train_losses[-1],\n",
    "                                     val_losses[-1],\n",
    "                                     val_accs[-1]))\n",
    "        \n",
    "        \n",
    "# get test input and expected output\n",
    "te_input = Variable(torch.from_numpy(X_te))\n",
    "te_targets = Variable(torch.from_numpy(onehot(y_te, num_output))).float()\n",
    "# predict on testset\n",
    "te_output = net(te_input)\n",
    "# compute loss and accuracy\n",
    "te_loss = cross_entropy(te_output, te_targets)\n",
    "te_acc = accuracy(te_output, te_targets)\n",
    "print(\"\\nTest Cost: %0.3f\\tTest Accuracy: %0.3f\" % (te_loss.data.numpy(), te_acc.data.numpy()))\n",
    "\n",
    "# plot boundary on testset after training session\n",
    "plot_decision_boundary(lambda x: pred(x), X_te, y_te)\n",
    "plt.title(\"Trained Classifier\")\n",
    "\n",
    "plt.figure()\n",
    "epoch = np.arange(len(train_losses))\n",
    "plt.plot(epoch, train_losses, 'r', label='Train Loss')\n",
    "plt.plot(epoch, val_losses, 'b', label='Val Loss')\n",
    "plt.legend()\n",
    "plt.xlabel('Updates')\n",
    "plt.ylabel('Loss')\n",
    "plt.show()\n",
    "\n",
    "plt.figure()\n",
    "plt.plot(epoch, train_accs, 'r', label='Train Acc')\n",
    "plt.plot(epoch, val_accs, 'b', label='Val Acc')\n",
    "plt.legend()\n",
    "plt.xlabel('Updates')\n",
    "plt.ylabel('Accuracy')\n",
    "plt.show()"
   ]
  },
  {
   "cell_type": "markdown",
   "metadata": {},
   "source": [
    "# Assignments\n",
    "\n",
    "1. A linear logistic classifier is only able to create a linear decision boundary. Change the Logistic classifier into a (nonlinear) Neural network by inserting a dense hidden layer between the input and output layers of the model\n",
    " \n",
    "2. Experiment with multiple hidden layers or more / less hidden units. What happens to the decision boundary?\n",
    " \n",
    "3. Overfitting: When increasing the number of hidden layers / units the neural network will fit the training data better by creating a highly nonlinear decision boundary. If the model is to complex it will often generalize poorly to new data (validation and test set). Can you observe this from the training and validation errors? \n",
    " \n",
    "4. We used the vanilla stocastic gradient descent algorithm for parameter updates. This is usually slow to converge and more sophisticated pseudo-second-order methods usually works better. Try changing the optimizer to [adam or momentum](http://pytorch.org/docs/master/optim.html#torch.optim.Adam)"
   ]
  },
  {
   "cell_type": "markdown",
   "metadata": {},
   "source": [
    "When you're done, continue to the next part of this lab."
   ]
  }
 ],
 "metadata": {
  "kernelspec": {
   "display_name": "Python 3",
   "language": "python",
   "name": "python3"
  },
  "language_info": {
   "codemirror_mode": {
    "name": "ipython",
    "version": 3
   },
   "file_extension": ".py",
   "mimetype": "text/x-python",
   "name": "python",
   "nbconvert_exporter": "python",
   "pygments_lexer": "ipython3",
   "version": "3.7.3"
  }
 },
 "nbformat": 4,
 "nbformat_minor": 1
}
